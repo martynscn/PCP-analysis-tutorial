{
 "cells": [
  {
   "cell_type": "code",
   "execution_count": 1,
   "metadata": {},
   "outputs": [],
   "source": [
    "import os\n",
    "os.chdir(\"D:/Projects/George Python/PCP ASSIGNMENT 1\")"
   ]
  },
  {
   "cell_type": "code",
   "execution_count": 2,
   "metadata": {},
   "outputs": [],
   "source": [
    "# importing all necessary libraries\n",
    "import feature_module as ftm \n",
    "import load_dataset_module as dataset\n",
    "import importlib    #inbuilt python module\n"
   ]
  },
  {
   "cell_type": "code",
   "execution_count": 3,
   "metadata": {},
   "outputs": [],
   "source": [
    "importlib.reload(dataset)\n",
    "activity_data = dataset.Activity_Data()     # here we called the function that Loads and parses activity context dataset file."
   ]
  },
  {
   "cell_type": "code",
   "execution_count": 4,
   "metadata": {},
   "outputs": [],
   "source": [
    "def main():\n",
    "    print('Welcome to Feature extraction!')\n",
    "    # \\n means new line, while \\t means tab space    \n",
    "    try:\n",
    "        feature = input('Enter no corresponding to the feature you want to extract\\n1\\t mean \\n2\\t variance \\n3\\t median \\n4\\t standard deviation \\n5\\t root mean square \\n6\\t Zero crossing \\n7\\t sum of squares \\n8\\t covariance\\n')\n",
    "        if feature == '1':\n",
    "            ftm.write_csv('1', activity_data)\n",
    "        elif feature == '2':\n",
    "            ftm.write_csv('2', activity_data)\n",
    "        elif feature == '3':\n",
    "            ftm.write_csv('3', activity_data)\n",
    "        elif feature == '4':\n",
    "            ftm.write_csv('4', activity_data)\n",
    "        elif feature == '5':\n",
    "            ftm.write_csv('5', activity_data)\n",
    "        elif feature == '6':\n",
    "            ftm.write_csv('6', activity_data)\n",
    "        elif feature == '7':\n",
    "            ftm.write_csv('7', activity_data)\n",
    "        elif feature == '8':\n",
    "            ftm.write_csv('8', activity_data)\n",
    "        else:\n",
    "            raise Exception('Wrong feature inputs!!!')\n",
    "    except Exception as e:\n",
    "        print(e)"
   ]
  },
  {
   "cell_type": "code",
   "execution_count": 5,
   "metadata": {},
   "outputs": [
    {
     "output_type": "stream",
     "name": "stdout",
     "text": [
      "Welcome to Feature extraction!\n",
      "Computing features...\n",
      "\n",
      "Feature completed.Check extracted_features folder\n"
     ]
    }
   ],
   "source": [
    "main()"
   ]
  },
  {
   "cell_type": "code",
   "execution_count": null,
   "metadata": {},
   "outputs": [],
   "source": []
  }
 ],
 "metadata": {
  "kernelspec": {
   "display_name": "Python 3",
   "language": "python",
   "name": "python3"
  },
  "language_info": {
   "codemirror_mode": {
    "name": "ipython",
    "version": 3
   },
   "file_extension": ".py",
   "mimetype": "text/x-python",
   "name": "python",
   "nbconvert_exporter": "python",
   "pygments_lexer": "ipython3",
   "version": "3.8.3-final"
  }
 },
 "nbformat": 4,
 "nbformat_minor": 2
}